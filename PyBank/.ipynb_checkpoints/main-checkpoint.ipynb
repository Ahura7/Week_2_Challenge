{
 "cells": [
  {
   "cell_type": "code",
   "execution_count": 1,
   "id": "6c4dcd7f-1a55-4a4f-b338-37bf11190a23",
   "metadata": {},
   "outputs": [],
   "source": [
    "# Task Details: \n",
    "# Your task is to create a Python script that analyses the records to calculate each of the following:\n",
    "    # The total number of months included in the dataset\n",
    "    # The net total amount of Profit/Losses over the entire period\n",
    "    # The average of the changes in Profit/Losses over the entire period\n",
    "    # The greatest increase in profits (date and amount) over the entire period\n",
    "    # The greatest decrease in losses (date and amount) over the entire period"
   ]
  },
  {
   "cell_type": "code",
   "execution_count": 5,
   "id": "d775a07f-8bce-466c-8143-29638652421d",
   "metadata": {},
   "outputs": [
    {
     "data": {
      "text/plain": [
       "PosixPath('/Users/shayan/Desktop/USYD_FinTech_Bootcamp_2023_Material/python-challenge/PyBank')"
      ]
     },
     "execution_count": 5,
     "metadata": {},
     "output_type": "execute_result"
    }
   ],
   "source": [
    "# Import Path to allow for reading of the budget file\n",
    "from pathlib import Path\n",
    "Path.cwd()"
   ]
  },
  {
   "cell_type": "code",
   "execution_count": 12,
   "id": "24e1e86b-fe60-424f-aa69-acc40ba98b48",
   "metadata": {},
   "outputs": [
    {
     "data": {
      "text/plain": [
       "PosixPath('/Users/shayan/Desktop/USYD_FinTech_Bootcamp_2023_Material/python-challenge/PyBank/budget_data.csv')"
      ]
     },
     "execution_count": 12,
     "metadata": {},
     "output_type": "execute_result"
    }
   ],
   "source": [
    "# Since the code is created in MacOS the full path needs to be called\n",
    "budget_file_path = Path(\"/Users/shayan/Desktop/USYD_FinTech_Bootcamp_2023_Material/python-challenge/PyBank/budget_data.csv\")\n",
    "budget_file_path"
   ]
  },
  {
   "cell_type": "code",
   "execution_count": 2,
   "id": "f2e5dbee-8ec8-4737-a4c7-4b6c2145cc82",
   "metadata": {},
   "outputs": [],
   "source": [
    "# Initialising Variables\n",
    "months_total = 0\n",
    "net_total = 0"
   ]
  }
 ],
 "metadata": {
  "kernelspec": {
   "display_name": "Python 3 (ipykernel)",
   "language": "python",
   "name": "python3"
  },
  "language_info": {
   "codemirror_mode": {
    "name": "ipython",
    "version": 3
   },
   "file_extension": ".py",
   "mimetype": "text/x-python",
   "name": "python",
   "nbconvert_exporter": "python",
   "pygments_lexer": "ipython3",
   "version": "3.7.13"
  }
 },
 "nbformat": 4,
 "nbformat_minor": 5
}
