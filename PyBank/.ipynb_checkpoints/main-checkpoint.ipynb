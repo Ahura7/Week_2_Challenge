{
 "cells": [
  {
   "cell_type": "code",
   "execution_count": null,
   "id": "6c4dcd7f-1a55-4a4f-b338-37bf11190a23",
   "metadata": {},
   "outputs": [],
   "source": [
    "# Task Details: \n",
    "# Your task is to create a Python script that analyses the records to calculate each of the following:\n",
    "    # The total number of months included in the dataset\n",
    "    # The net total amount of Profit/Losses over the entire period\n",
    "    # The average of the changes in Profit/Losses over the entire period\n",
    "    # The greatest increase in profits (date and amount) over the entire period\n",
    "    # The greatest decrease in losses (date and amount) over the entire period"
   ]
  },
  {
   "cell_type": "code",
   "execution_count": 1,
   "id": "d775a07f-8bce-466c-8143-29638652421d",
   "metadata": {},
   "outputs": [
    {
     "data": {
      "text/plain": [
       "PosixPath('/Users/shayan/Desktop/USYD_FinTech_Bootcamp_2023_Material/python-challenge/PyBank')"
      ]
     },
     "execution_count": 1,
     "metadata": {},
     "output_type": "execute_result"
    }
   ],
   "source": [
    "# Import Path to allow for reading of the budget file\n",
    "from pathlib import Path\n",
    "import csv\n",
    "Path.cwd()"
   ]
  },
  {
   "cell_type": "code",
   "execution_count": 2,
   "id": "24e1e86b-fe60-424f-aa69-acc40ba98b48",
   "metadata": {},
   "outputs": [
    {
     "data": {
      "text/plain": [
       "PosixPath('/Users/shayan/Desktop/USYD_FinTech_Bootcamp_2023_Material/python-challenge/PyBank/budget_data.csv')"
      ]
     },
     "execution_count": 2,
     "metadata": {},
     "output_type": "execute_result"
    }
   ],
   "source": [
    "# Since the code is created in MacOS the full path needs to be called\n",
    "budget_file_path = Path(\"/Users/shayan/Desktop/USYD_FinTech_Bootcamp_2023_Material/python-challenge/PyBank/budget_data.csv\")\n",
    "budget_file_path"
   ]
  },
  {
   "cell_type": "code",
   "execution_count": 6,
   "id": "f2e5dbee-8ec8-4737-a4c7-4b6c2145cc82",
   "metadata": {},
   "outputs": [],
   "source": [
    "# Initialising Variables \n",
    "months_total = 0\n",
    "net_total = 0\n",
    "profit_loss = 0\n",
    "count = 0\n",
    "average = 0\n",
    "# Initialising Dictionaries and min/max key value pairs\n",
    "value = 0\n",
    "max_profit = {}\n",
    "maximum_key = \"\"\n",
    "maximum_value = 0\n",
    "max_loss = {}\n",
    "minimum_key = \"\"\n",
    "minimum_value = 0"
   ]
  },
  {
   "cell_type": "code",
   "execution_count": 7,
   "id": "f10aa480-5dbe-404f-ba47-f8d0b8817b11",
   "metadata": {},
   "outputs": [],
   "source": [
    "# Open and read the CSV file\n",
    "with open(budget_file_path) as csv_file:\n",
    "    \n",
    "    # Pass in the csv file to the csv.reader() function\n",
    "    # (with ',' as the delmiter/separator) and return the csvreader object\n",
    "    csvreader = csv.reader(csv_file, delimiter=\",\")\n",
    "    \n",
    "    # Read the header row first (skip this step if there is no header)\n",
    "    header = next(csvreader)\n",
    "    \n",
    "    # Print the header - This was used to ensure headers are reading correctly\n",
    "    # print(f\"Header = {header}\")\n",
    "    \n",
    "    \n",
    "    # Read each row of data after the header\n",
    "    for row in csvreader:\n",
    "        \n",
    "        # Print the row - This was done initially to ensure data was loading correctly\n",
    "        # print(row)\n",
    "        \n",
    "        value = int(row[1])\n",
    "\n",
    "        # Set the 'count' and 'net_total' variables \n",
    "        # for better readability, convert strings to ints for numerical calculations\n",
    "        count +=1\n",
    "        net_total += int(row[1])\n",
    "\n",
    "        # Calculate the average and round to the nearest 2 decimal places\n",
    "        average = round(net_total / count, 2)\n",
    "        # Caclulate the maximum porfit/loss and update the dictinaries \n",
    "        # with the data and value\n",
    "        \n",
    "        # Logic to determine min value and associated key, aka maximum loss\n",
    "        if minimum_value == 0:\n",
    "            minimum_value = value\n",
    "            minimum_key = row[0]\n",
    "        elif minimum_value > value:\n",
    "            minimum_value = value\n",
    "            minimum_key = row[0]\n",
    "        max_loss = {'Date': minimum_key,'Value': minimum_value} \n",
    "        \n",
    "        # Logic to determine max value and associated key, maximum profit\n",
    "        if value > maximum_value:\n",
    "            maximum_value = value\n",
    "            maximum_key = row[0]\n",
    "            \n",
    "        max_profit = {'Date': maximum_key,'Value': maximum_value}\n",
    "            "
   ]
  },
  {
   "cell_type": "code",
   "execution_count": 41,
   "id": "4157dcd9-eebb-416f-aa49-48fdb907593b",
   "metadata": {},
   "outputs": [
    {
     "name": "stdout",
     "output_type": "stream",
     "text": [
      "Financial Analysis Results\n",
      "\n",
      "------------------------------\n",
      "\n",
      "Total Month: 86\n",
      "Net Total: $38,382,578\n",
      "Average Change: $446,309.05\n",
      "Greatest Increase in Profits: Feb-2012 $(1,170,593)\n",
      "Greatest Decrease in Profits: Sep-2013 $(-1,196,225)\n"
     ]
    }
   ],
   "source": [
    "# Print output of the analysis\n",
    "print(f\"Financial Analysis Results\\n\")\n",
    "# Insert a line divider\n",
    "print(\"-\"*30)\n",
    "# Insert variables, using \":,\" to print values using \n",
    "#thousands sepertors where appropriate for easier reading\n",
    "print(\n",
    "    f\"\\nTotal Month: {count}\"\n",
    "    f\"\\nNet Total: ${net_total:,}\"\n",
    "    f\"\\nAverage Change: ${average:,}\"\n",
    "    f\"\\nGreatest Increase in Profits: {max_profit['Date']} $({max_profit['Value']:,})\" \n",
    "    f\"\\nGreatest Decrease in Profits: {max_loss['Date']} $({max_loss['Value']:,})\"\n",
    "     )"
   ]
  },
  {
   "cell_type": "code",
   "execution_count": 45,
   "id": "9826b4db-628a-419b-99e2-61f2dcbfbac8",
   "metadata": {},
   "outputs": [],
   "source": [
    "# Export printed output to output.txt\n",
    "# Set output file name\n",
    "output_path = 'output.txt'\n",
    "\n",
    "# Open the output path as a file object\n",
    "with open(output_path, 'w') as file:\n",
    "    # Write the variables to the output file and convert to string where needed\n",
    "    file.write(f\"Financial Analysis Results\\n\")\n",
    "    file.write(\"-\"*30)\n",
    "    file.write(\n",
    "        f\"\\nTotal Month: {count}\"\n",
    "        f\"\\nNet Total: ${net_total:,}\"\n",
    "        f\"\\nAverage Change: ${average:,}\"\n",
    "        f\"\\nGreatest Increase in Profits: {max_profit['Date']} $({max_profit['Value']:,})\" \n",
    "        f\"\\nGreatest Decrease in Profits: {max_loss['Date']} $({max_loss['Value']:,})\"\n",
    "      )"
   ]
  },
  {
   "cell_type": "code",
   "execution_count": null,
   "id": "3afb1a27-7d56-465b-8368-bfad2224d89d",
   "metadata": {},
   "outputs": [],
   "source": []
  }
 ],
 "metadata": {
  "kernelspec": {
   "display_name": "Python 3 (ipykernel)",
   "language": "python",
   "name": "python3"
  },
  "language_info": {
   "codemirror_mode": {
    "name": "ipython",
    "version": 3
   },
   "file_extension": ".py",
   "mimetype": "text/x-python",
   "name": "python",
   "nbconvert_exporter": "python",
   "pygments_lexer": "ipython3",
   "version": "3.7.13"
  }
 },
 "nbformat": 4,
 "nbformat_minor": 5
}
