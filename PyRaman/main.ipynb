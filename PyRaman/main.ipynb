{
 "cells": [
  {
   "cell_type": "code",
   "execution_count": 1,
   "id": "a800cf42-7b2d-4b12-b42c-4480a559744f",
   "metadata": {},
   "outputs": [
    {
     "data": {
      "text/plain": [
       "PosixPath('/Users/shayan/Desktop/USYD_FinTech_Bootcamp_2023_Material/python-challenge/PyRaman')"
      ]
     },
     "execution_count": 1,
     "metadata": {},
     "output_type": "execute_result"
    }
   ],
   "source": [
    "# -*- coding: UTF-8 -*-\n",
    "\"\"\"PyRamen Homework Starter.\"\"\"\n",
    "\n",
    "# @TODO: Import libraries\n",
    "import csv\n",
    "from pathlib import Path\n",
    "# Calling current path to copy into next command\n",
    "Path.cwd()"
   ]
  },
  {
   "cell_type": "code",
   "execution_count": 2,
   "id": "3f0840cc-4968-4289-b7cf-94b192a96dc7",
   "metadata": {},
   "outputs": [],
   "source": [
    "# @TODO: Set file paths for menu_data.csv and sales_data.csv\n",
    "menu_filepath = Path('/Users/shayan/Desktop/USYD_FinTech_Bootcamp_2023_Material/python-challenge/PyRaman/menu_data.csv')\n",
    "sales_filepath = Path('/Users/shayan/Desktop/USYD_FinTech_Bootcamp_2023_Material/python-challenge/PyRaman/sales_data.csv')"
   ]
  },
  {
   "cell_type": "code",
   "execution_count": 3,
   "id": "8bf2e447-cf06-40f8-bae0-23d8e64c3357",
   "metadata": {},
   "outputs": [],
   "source": [
    "# @TODO: Initialize list objects to hold our menu and sales data\n",
    "menu = []\n",
    "sales = []"
   ]
  },
  {
   "cell_type": "code",
   "execution_count": 4,
   "id": "6e340db8-904a-4310-8a94-c544d038afb5",
   "metadata": {},
   "outputs": [],
   "source": [
    "# @TODO: Read in the menu data into the menu list\n",
    "# Open and read the CSV file\n",
    "with open(menu_filepath) as csv_menu:\n",
    "    \n",
    "    # Pass in the csv file to the csv.reader() function\n",
    "    # (with ',' as the delmiter/separator) and return the csvreader object \n",
    "    csvreader_menu = csv.reader(csv_menu, delimiter=\",\")\n",
    "    \n",
    "    # Read the header row first (skip this step if there is no header)   \n",
    "    header = next(csvreader_menu)\n",
    "    \n",
    "    # Read each row of data after the header\n",
    "    for row in csvreader_menu:\n",
    "        menu.append(row)"
   ]
  },
  {
   "cell_type": "code",
   "execution_count": 5,
   "id": "fdf97f0a-404c-41d1-a1d0-a14aa41f4cef",
   "metadata": {},
   "outputs": [],
   "source": [
    "# @TODO: Read in the sales data into the sales list\n",
    "# Open and read the CSV file\n",
    "with open(sales_filepath) as csv_sales:\n",
    "    \n",
    "    # Pass in the csv file to the csv.reader() function\n",
    "    # (with ',' as the delmiter/separator) and return the csvreader object \n",
    "    csvreader_sales = csv.reader(csv_sales, delimiter=\",\")\n",
    "    \n",
    "    # Read the header row first (skip this step if there is no header)   \n",
    "    header = next(csvreader_sales)\n",
    "    \n",
    "    # Read each row of data after the header\n",
    "    for row in csvreader_sales:\n",
    "        sales.append(row)"
   ]
  },
  {
   "cell_type": "code",
   "execution_count": 6,
   "id": "3ce6e68d-e0d8-40c9-93d8-aa501ebb870b",
   "metadata": {},
   "outputs": [],
   "source": [
    "# @TODO: Initialize dict object to hold our key-value pairs of items and metrics\n",
    "report = {}\n",
    "\n",
    "# Initialize a row counter variable\n",
    "row_count = 0"
   ]
  },
  {
   "cell_type": "code",
   "execution_count": null,
   "id": "d060412d-42e2-4755-81cc-0acf4449f3a1",
   "metadata": {},
   "outputs": [],
   "source": [
    "# @TODO: Loop over every row in the sales list object\n",
    "for sales_row in sales:\n",
    "    \n",
    "    # Line_Item_ID,Date,Credit_Card_Number,Quantity,Menu_Item\n",
    "    # @TODO: Initialize sales data variables\n",
    "    # Line_Item_ID = int(sales_row[0])\n",
    "    # Date = sales_row[1]\n",
    "    # Credit_Card_Number = sales_row[2]\n",
    "    Quantity = float(sales_row[3])\n",
    "    Menu_Item = sales_row[4]\n",
    "\n",
    "    # @TODO:\n",
    "    # If the item value not in the report, add it as a new entry with \n",
    "    # initialized metrics\n",
    "    # Naming convention allows the keys to be ordered in logical fashion, \n",
    "    # count, revenue, cost, profit\n",
    "    if not Line_Item_ID in report:\n",
    "        report = {\n",
    "                \"01-count\": 0,\n",
    "                \"02-revenue\": 0,\n",
    "                \"03-cogs\": 0,\n",
    "                \"04-profit\": 0,\n",
    "                }\n",
    "\n",
    "    # @TODO: For every row in our sales data, loop over the menu \n",
    "    # records to determine a match\n",
    "    for menu_row in menu:\n",
    "\n",
    "        # Item,Category,Description,Price,Cost\n",
    "        # @TODO: Initialize menu data variables\n",
    "        Item = menu_row[0]\n",
    "        # Category = menu_row[1]\n",
    "        # Description = menu_row[2]\n",
    "        Price = float(menu_row[3])\n",
    "        Cost = float(menu_row[4])\n",
    "\n",
    "\n",
    "\n",
    "        # @TODO: Calculate profit of each item in the menu data\n",
    "        Profit = Price - Cost\n",
    "\n",
    "        # @TODO: If the item value in our sales data is equal to the \n",
    "        # any of the items in the menu, then begin tracking metrics for that item\n",
    "        if Menu_Item in menu:\n",
    "\n",
    "            # @TODO: Print out matching menu data\n",
    "\n",
    "            print(Menu_Item)\n",
    "\n",
    "            # @TODO: Cumulatively add up the metrics for each item key\n",
    "\n",
    "            report[Menu_Item][\"01-count\"] += Quantity\n",
    "            report[Menu_Item][\"02-revenue\"] += Price * Quantity\n",
    "            report[Menu_Item][\"03-cogs\"] += Cost * Quantity\n",
    "            report[Menu_Item][\"04-profit\"] += Profit * Quantity\n",
    "\n",
    "        # @TODO: Else, the sales item does not equal any fo the item in the menu data, \n",
    "        # therefore no match\n",
    "        else:\n",
    "            print(f\"{Menu_Item} does not equal {Item}! NO MATCH!\")\n",
    "        \n",
    "    # @TODO: Increment the row counter by 1\n",
    "    row_count += 1"
   ]
  },
  {
   "cell_type": "code",
   "execution_count": null,
   "id": "e2de397f-81a9-42fc-9a39-6f9cef18299e",
   "metadata": {},
   "outputs": [],
   "source": [
    "# @TODO: Print total number of records in sales data\n",
    "print(row_count)"
   ]
  },
  {
   "cell_type": "code",
   "execution_count": null,
   "id": "472dba90-a6de-45c7-8160-da3ea022f935",
   "metadata": {},
   "outputs": [],
   "source": [
    "# @TODO: Write out report to a text file (won't appear on the command line output)\n",
    "# Set output file name\n",
    "output_path = 'output.txt'\n",
    "\n",
    "# Open the output path as a file object\n",
    "with open(output_path, 'w') as file:\n",
    "    # Write the variables to the output file and convert to string where needed\n",
    "    file.write(f\"\")\n",
    "    # Insert a line divider\n",
    "    file.write(\"-\"*30)\n",
    "    \n",
    "    file.write(\n",
    "    f\"\"\n",
    "    )"
   ]
  }
 ],
 "metadata": {
  "kernelspec": {
   "display_name": "Python 3 (ipykernel)",
   "language": "python",
   "name": "python3"
  },
  "language_info": {
   "codemirror_mode": {
    "name": "ipython",
    "version": 3
   },
   "file_extension": ".py",
   "mimetype": "text/x-python",
   "name": "python",
   "nbconvert_exporter": "python",
   "pygments_lexer": "ipython3",
   "version": "3.7.13"
  }
 },
 "nbformat": 4,
 "nbformat_minor": 5
}
